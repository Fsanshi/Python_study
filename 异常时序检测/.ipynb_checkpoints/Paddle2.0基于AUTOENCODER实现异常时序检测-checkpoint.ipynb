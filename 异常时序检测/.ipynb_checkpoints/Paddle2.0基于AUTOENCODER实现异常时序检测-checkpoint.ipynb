{
 "cells": [
  {
   "cell_type": "markdown",
   "metadata": {},
   "source": [
    "# Paddle2.0基于AUTOENCODER实现异常时序检测"
   ]
  },
  {
   "cell_type": "code",
   "execution_count": 3,
   "metadata": {},
   "outputs": [],
   "source": [
    "#导入模块\n",
    "import warnings\n",
    "warnings.filterwarnings(\"ignore\")  # 忽略版本问题\n",
    "import numpy as np\n",
    "import pandas as pd\n",
    "from matplotlib import pyplot as plt"
   ]
  },
  {
   "cell_type": "code",
   "execution_count": 4,
   "metadata": {},
   "outputs": [
    {
     "name": "stdout",
     "output_type": "stream",
     "text": [
      "2.0.0\n"
     ]
    }
   ],
   "source": [
    "import paddle\n",
    "import paddle.nn.functional as F\n",
    "print(paddle.__version__)\n",
    "\n",
    "# 启动动态图训练模式\n",
    "paddle.disable_static()"
   ]
  },
  {
   "cell_type": "markdown",
   "metadata": {},
   "source": [
    "## 加载数据集\n",
    "\n",
    "* 我们将使用纽伦塔异常基准(NAB)数据集。它提供人工时间序列数据，包含标记的异常行为周期。\n",
    "\n",
    "* 该数据集已经挂载到[AI Studio](https://aistudio.baidu.com/aistudio/datasetdetail/55385)，相应的项目也已经挂载数据集[基于AUTOENCODER实现异常时序检测](https://aistudio.baidu.com/aistudio/projectdetail/1086283?shared=1)\n",
    "\n",
    "* 我们将使用art_daily_small_noise.csv文件内数据进行训练，并使用art_day_jumpup.csv文件内数据进行测试。\n",
    "\n",
    "* 该数据集的简单性使我们能够有效地演示异常检测。"
   ]
  },
  {
   "cell_type": "code",
   "execution_count": 5,
   "metadata": {},
   "outputs": [
    {
     "name": "stdout",
     "output_type": "stream",
     "text": [
      "                         value\n",
      "timestamp                     \n",
      "2014-04-01 00:00:00  18.324919\n",
      "2014-04-01 00:05:00  21.970327\n",
      "2014-04-01 00:10:00  18.624806\n",
      "2014-04-01 00:15:00  21.953684\n",
      "2014-04-01 00:20:00  21.909120\n",
      "                         value\n",
      "timestamp                     \n",
      "2014-04-01 00:00:00  19.761252\n",
      "2014-04-01 00:05:00  20.500833\n",
      "2014-04-01 00:10:00  19.961641\n",
      "2014-04-01 00:15:00  21.490266\n",
      "2014-04-01 00:20:00  20.187739\n"
     ]
    },
    {
     "name": "stderr",
     "output_type": "stream",
     "text": [
      "/usr/local/lib/python3.8/site-packages/ipykernel/ipkernel.py:287: DeprecationWarning: `should_run_async` will not call `transform_cell` automatically in the future. Please pass the result to `transformed_cell` argument and any exception that happen during thetransform in `preprocessing_exc_tuple` in IPython 7.17 and above.\n",
      "  and should_run_async(code)\n"
     ]
    }
   ],
   "source": [
    "#正常数据预览\n",
    "df_small_noise_path = 'data/artificialNoAnomaly/art_daily_small_noise.csv'\n",
    "df_small_noise = pd.read_csv(\n",
    "    df_small_noise_path, parse_dates=True, index_col=\"timestamp\"\n",
    ")\n",
    "\n",
    "#异常数据预览\n",
    "df_daily_jumpsup_path = 'data/artificialWithAnomaly/art_daily_jumpsup.csv'\n",
    "df_daily_jumpsup = pd.read_csv(\n",
    "    df_daily_jumpsup_path, parse_dates=True, index_col=\"timestamp\"\n",
    ")\n",
    "print(df_small_noise.head())\n",
    "\n",
    "print(df_daily_jumpsup.head())"
   ]
  },
  {
   "cell_type": "code",
   "execution_count": 6,
   "metadata": {},
   "outputs": [
    {
     "name": "stderr",
     "output_type": "stream",
     "text": [
      "/usr/local/lib/python3.8/site-packages/ipykernel/ipkernel.py:287: DeprecationWarning: `should_run_async` will not call `transform_cell` automatically in the future. Please pass the result to `transformed_cell` argument and any exception that happen during thetransform in `preprocessing_exc_tuple` in IPython 7.17 and above.\n",
      "  and should_run_async(code)\n"
     ]
    },
    {
     "data": {
      "text/html": [
       "<div>\n",
       "<style scoped>\n",
       "    .dataframe tbody tr th:only-of-type {\n",
       "        vertical-align: middle;\n",
       "    }\n",
       "\n",
       "    .dataframe tbody tr th {\n",
       "        vertical-align: top;\n",
       "    }\n",
       "\n",
       "    .dataframe thead th {\n",
       "        text-align: right;\n",
       "    }\n",
       "</style>\n",
       "<table border=\"1\" class=\"dataframe\">\n",
       "  <thead>\n",
       "    <tr style=\"text-align: right;\">\n",
       "      <th></th>\n",
       "      <th>value</th>\n",
       "    </tr>\n",
       "    <tr>\n",
       "      <th>timestamp</th>\n",
       "      <th></th>\n",
       "    </tr>\n",
       "  </thead>\n",
       "  <tbody>\n",
       "    <tr>\n",
       "      <th>2014-04-01 00:00:00</th>\n",
       "      <td>18.324919</td>\n",
       "    </tr>\n",
       "    <tr>\n",
       "      <th>2014-04-01 00:05:00</th>\n",
       "      <td>21.970327</td>\n",
       "    </tr>\n",
       "    <tr>\n",
       "      <th>2014-04-01 00:10:00</th>\n",
       "      <td>18.624806</td>\n",
       "    </tr>\n",
       "    <tr>\n",
       "      <th>2014-04-01 00:15:00</th>\n",
       "      <td>21.953684</td>\n",
       "    </tr>\n",
       "    <tr>\n",
       "      <th>2014-04-01 00:20:00</th>\n",
       "      <td>21.909120</td>\n",
       "    </tr>\n",
       "    <tr>\n",
       "      <th>...</th>\n",
       "      <td>...</td>\n",
       "    </tr>\n",
       "    <tr>\n",
       "      <th>2014-04-14 23:35:00</th>\n",
       "      <td>20.211195</td>\n",
       "    </tr>\n",
       "    <tr>\n",
       "      <th>2014-04-14 23:40:00</th>\n",
       "      <td>20.531041</td>\n",
       "    </tr>\n",
       "    <tr>\n",
       "      <th>2014-04-14 23:45:00</th>\n",
       "      <td>19.032127</td>\n",
       "    </tr>\n",
       "    <tr>\n",
       "      <th>2014-04-14 23:50:00</th>\n",
       "      <td>21.798801</td>\n",
       "    </tr>\n",
       "    <tr>\n",
       "      <th>2014-04-14 23:55:00</th>\n",
       "      <td>18.682620</td>\n",
       "    </tr>\n",
       "  </tbody>\n",
       "</table>\n",
       "<p>4032 rows × 1 columns</p>\n",
       "</div>"
      ],
      "text/plain": [
       "                         value\n",
       "timestamp                     \n",
       "2014-04-01 00:00:00  18.324919\n",
       "2014-04-01 00:05:00  21.970327\n",
       "2014-04-01 00:10:00  18.624806\n",
       "2014-04-01 00:15:00  21.953684\n",
       "2014-04-01 00:20:00  21.909120\n",
       "...                        ...\n",
       "2014-04-14 23:35:00  20.211195\n",
       "2014-04-14 23:40:00  20.531041\n",
       "2014-04-14 23:45:00  19.032127\n",
       "2014-04-14 23:50:00  21.798801\n",
       "2014-04-14 23:55:00  18.682620\n",
       "\n",
       "[4032 rows x 1 columns]"
      ]
     },
     "execution_count": 6,
     "metadata": {},
     "output_type": "execute_result"
    }
   ],
   "source": [
    "df_small_noise"
   ]
  },
  {
   "cell_type": "code",
   "execution_count": 7,
   "metadata": {},
   "outputs": [
    {
     "name": "stderr",
     "output_type": "stream",
     "text": [
      "/usr/local/lib/python3.8/site-packages/ipykernel/ipkernel.py:287: DeprecationWarning: `should_run_async` will not call `transform_cell` automatically in the future. Please pass the result to `transformed_cell` argument and any exception that happen during thetransform in `preprocessing_exc_tuple` in IPython 7.17 and above.\n",
      "  and should_run_async(code)\n"
     ]
    },
    {
     "data": {
      "text/html": [
       "<div>\n",
       "<style scoped>\n",
       "    .dataframe tbody tr th:only-of-type {\n",
       "        vertical-align: middle;\n",
       "    }\n",
       "\n",
       "    .dataframe tbody tr th {\n",
       "        vertical-align: top;\n",
       "    }\n",
       "\n",
       "    .dataframe thead th {\n",
       "        text-align: right;\n",
       "    }\n",
       "</style>\n",
       "<table border=\"1\" class=\"dataframe\">\n",
       "  <thead>\n",
       "    <tr style=\"text-align: right;\">\n",
       "      <th></th>\n",
       "      <th>value</th>\n",
       "    </tr>\n",
       "    <tr>\n",
       "      <th>timestamp</th>\n",
       "      <th></th>\n",
       "    </tr>\n",
       "  </thead>\n",
       "  <tbody>\n",
       "    <tr>\n",
       "      <th>2014-04-01 00:00:00</th>\n",
       "      <td>19.761252</td>\n",
       "    </tr>\n",
       "    <tr>\n",
       "      <th>2014-04-01 00:05:00</th>\n",
       "      <td>20.500833</td>\n",
       "    </tr>\n",
       "    <tr>\n",
       "      <th>2014-04-01 00:10:00</th>\n",
       "      <td>19.961641</td>\n",
       "    </tr>\n",
       "    <tr>\n",
       "      <th>2014-04-01 00:15:00</th>\n",
       "      <td>21.490266</td>\n",
       "    </tr>\n",
       "    <tr>\n",
       "      <th>2014-04-01 00:20:00</th>\n",
       "      <td>20.187739</td>\n",
       "    </tr>\n",
       "    <tr>\n",
       "      <th>...</th>\n",
       "      <td>...</td>\n",
       "    </tr>\n",
       "    <tr>\n",
       "      <th>2014-04-14 23:35:00</th>\n",
       "      <td>18.074649</td>\n",
       "    </tr>\n",
       "    <tr>\n",
       "      <th>2014-04-14 23:40:00</th>\n",
       "      <td>21.002014</td>\n",
       "    </tr>\n",
       "    <tr>\n",
       "      <th>2014-04-14 23:45:00</th>\n",
       "      <td>20.566713</td>\n",
       "    </tr>\n",
       "    <tr>\n",
       "      <th>2014-04-14 23:50:00</th>\n",
       "      <td>18.254193</td>\n",
       "    </tr>\n",
       "    <tr>\n",
       "      <th>2014-04-14 23:55:00</th>\n",
       "      <td>21.863147</td>\n",
       "    </tr>\n",
       "  </tbody>\n",
       "</table>\n",
       "<p>4032 rows × 1 columns</p>\n",
       "</div>"
      ],
      "text/plain": [
       "                         value\n",
       "timestamp                     \n",
       "2014-04-01 00:00:00  19.761252\n",
       "2014-04-01 00:05:00  20.500833\n",
       "2014-04-01 00:10:00  19.961641\n",
       "2014-04-01 00:15:00  21.490266\n",
       "2014-04-01 00:20:00  20.187739\n",
       "...                        ...\n",
       "2014-04-14 23:35:00  18.074649\n",
       "2014-04-14 23:40:00  21.002014\n",
       "2014-04-14 23:45:00  20.566713\n",
       "2014-04-14 23:50:00  18.254193\n",
       "2014-04-14 23:55:00  21.863147\n",
       "\n",
       "[4032 rows x 1 columns]"
      ]
     },
     "execution_count": 7,
     "metadata": {},
     "output_type": "execute_result"
    }
   ],
   "source": [
    "df_daily_jumpsup"
   ]
  },
  {
   "cell_type": "markdown",
   "metadata": {},
   "source": [
    "## 数据可视化\n",
    "### 1. 正常的时序数据可视化"
   ]
  },
  {
   "cell_type": "code",
   "execution_count": 10,
   "metadata": {},
   "outputs": [
    {
     "data": {
      "image/png": "[encoded data removed]",
      "text/plain": [
       "<Figure size 432x288 with 1 Axes>"
      ]
     },
     "metadata": {
      "needs_background": "light"
     },
     "output_type": "display_data"
    }
   ],
   "source": [
    "fig, ax = plt.subplots()\n",
    "df_small_noise.plot(legend=False, ax=ax)\n",
    "plt.show()"
   ]
  },
  {
   "cell_type": "markdown",
   "metadata": {},
   "source": [
    "### 2.带有异常数据的时序数据可视化\n",
    "**带有异常的时序数据如下：**\n",
    "\n",
    "训练好模型后，我们将使用以下数据进行测试，并查看数据中的突然跳升是否被检测为异常。"
   ]
  },
  {
   "cell_type": "code",
   "execution_count": 11,
   "metadata": {},
   "outputs": [
    {
     "data": {
      "image/png": "[encoded data removed]",
      "text/plain": [
       "<Figure size 432x288 with 1 Axes>"
      ]
     },
     "metadata": {
      "needs_background": "light"
     },
     "output_type": "display_data"
    }
   ],
   "source": [
    "fig, ax = plt.subplots()\n",
    "df_daily_jumpsup.plot(legend=False, ax=ax)\n",
    "plt.show()"
   ]
  },
  {
   "cell_type": "markdown",
   "metadata": {},
   "source": [
    "## 训练数据预处理\n",
    "\n",
    "* 我们的训练数据包含了14天的采样，每天每隔5分钟采集一次数据，所以：\n",
    "* 每天包含 24 * 60 / 5 = 288 个timestep \n",
    "* 总共14天 288 * 14 = 4032 个数据\n",
    "\n"
   ]
  },
  {
   "cell_type": "code",
   "execution_count": 12,
   "metadata": {},
   "outputs": [
    {
     "name": "stdout",
     "output_type": "stream",
     "text": [
      "训练数据总量: 4032\n"
     ]
    }
   ],
   "source": [
    "#初始化并保存我们得到的均值和方差，用于初始化数据。\n",
    "training_mean = df_small_noise.mean()\n",
    "training_std = df_small_noise.std()\n",
    "df_training_value = (df_small_noise - training_mean) / training_std\n",
    "print(\"训练数据总量:\", len(df_training_value))"
   ]
  },
  {
   "cell_type": "markdown",
   "metadata": {},
   "source": [
    "## 创建序列\n",
    "\n",
    "从训练数据中创建组合时间步骤为288的连续数据值的序列。\n",
    "\n"
   ]
  },
  {
   "cell_type": "code",
   "execution_count": 13,
   "metadata": {},
   "outputs": [],
   "source": [
    "#时序步长\n",
    "TIME_STEPS = 288    \n",
    "\n",
    "class MyDataset(paddle.io.Dataset):\n",
    "    \"\"\"\n",
    "    步骤一：继承paddle.io.Dataset类\n",
    "    \"\"\"\n",
    "    def __init__(self,data,time_steps):\n",
    "        \"\"\"\n",
    "        步骤二：实现构造函数，定义数据读取方式，划分训练和测试数据集\n",
    "        注意：我们这个是不需要label的哦\n",
    "        \"\"\"\n",
    "        super(MyDataset, self).__init__()\n",
    "        self.time_steps = time_steps\n",
    "        self.data = paddle.to_tensor(self.transform(data),dtype='float32')\n",
    "\n",
    "    def transform(self,data):\n",
    "        '''\n",
    "        构造时序数据\n",
    "        '''\n",
    "        output = []\n",
    "        for i in range(len(data) - self.time_steps):\n",
    "            output.append(np.reshape(data[i : (i + self.time_steps)],(1,self.time_steps)))\n",
    "        return np.stack(output)\n",
    "\n",
    "    def __getitem__(self, index):\n",
    "        \"\"\"\n",
    "        步骤三：实现__getitem__方法，定义指定index时如何获取数据，并返回单条数据（训练数据）\n",
    "        \"\"\"\n",
    "        data = self.data[index]\n",
    "        label = self.data[index]\n",
    "        return data,label\n",
    "\n",
    "    def __len__(self):\n",
    "        \"\"\"\n",
    "        步骤四：实现__len__方法，返回数据集总数目\n",
    "        \"\"\"\n",
    "        return len(self.data)\n",
    "\n",
    "# 实例化数据集\n",
    "train_dataset = MyDataset(df_training_value.values,TIME_STEPS)"
   ]
  },
  {
   "cell_type": "markdown",
   "metadata": {},
   "source": [
    "### 1.模型组网\n",
    "\n",
    "用paddle.nn下的API，Layer,Conv1d、rlue完成网络的搭建。"
   ]
  },
  {
   "cell_type": "code",
   "execution_count": 14,
   "metadata": {},
   "outputs": [],
   "source": [
    "\n",
    "class AutoEncoder(paddle.nn.Layer):\n",
    "    def __init__(self):\n",
    "        super(AutoEncoder, self).__init__()\n",
    "        self.conv0 = paddle.nn.Conv1D(in_channels=1,out_channels=32,kernel_size=7,stride=2)\n",
    "        self.conv1 = paddle.nn.Conv1D(in_channels=32,out_channels=16,kernel_size=7,stride=2)\n",
    "        self.convT0 = paddle.nn.Conv1DTranspose(in_channels=16,out_channels=32,kernel_size=7,stride=2)\n",
    "        self.convT1 = paddle.nn.Conv1DTranspose(in_channels=32,out_channels=1,kernel_size=7,stride=2)\n",
    "\n",
    "    def forward(self, x):\n",
    "        x = self.conv0(x)\n",
    "        x = F.relu(x)\n",
    "        x = F.dropout(x,0.2)\n",
    "        x = self.conv1(x)\n",
    "        x = F.relu(x)\n",
    "        x = self.convT0(x)\n",
    "        x = F.relu(x)\n",
    "        x = F.dropout(x,0.2)\n",
    "        x = self.convT1(x)\n",
    "        return x"
   ]
  },
  {
   "cell_type": "markdown",
   "metadata": {},
   "source": [
    "### 2.模型训练\n",
    "\n",
    "接下来，我们用一个循环来进行模型的训练，我们将会：\n",
    "\n",
    "- 使用paddle.optimizer.Adam优化器来进行优化。\n",
    "\n",
    "- 使用paddle.nn.loss.MSELoss来计算损失值。 \n",
    "\n",
    "- 使用paddle.io.DataLoader来加载数据并组建batch。\n",
    "\n"
   ]
  },
  {
   "cell_type": "code",
   "execution_count": 15,
   "metadata": {},
   "outputs": [
    {
     "name": "stderr",
     "output_type": "stream",
     "text": [
      "\r",
      "  0%|          | 0/200 [00:00<?, ?it/s]"
     ]
    },
    {
     "name": "stdout",
     "output_type": "stream",
     "text": [
      "训练开始\n"
     ]
    },
    {
     "name": "stderr",
     "output_type": "stream",
     "text": [
      "100%|██████████| 200/200 [08:03<00:00,  2.42s/it]\n"
     ]
    },
    {
     "data": {
      "image/png": "[encoded data removed]",
      "text/plain": [
       "<Figure size 432x288 with 1 Axes>"
      ]
     },
     "metadata": {
      "needs_background": "light"
     },
     "output_type": "display_data"
    }
   ],
   "source": [
    "import tqdm\n",
    "#参数设置\n",
    "epoch_num = 200\n",
    "batch_size = 128\n",
    "learning_rate = 0.001\n",
    "\n",
    "def train():\n",
    "    print('训练开始')\n",
    "    #实例化模型\n",
    "    model = AutoEncoder()\n",
    "    #将模型转换为训练模式\n",
    "    model.train()\n",
    "    #设置优化器，学习率，并且把模型参数给优化器\n",
    "    opt = paddle.optimizer.Adam(learning_rate=learning_rate,parameters=model.parameters())\n",
    "    #设置损失函数\n",
    "    mse_loss = paddle.nn.loss.MSELoss()\n",
    "    #设置数据读取器\n",
    "    data_reader = paddle.io.DataLoader(train_dataset,\n",
    "                        places=[paddle.CPUPlace()],\n",
    "                        batch_size=batch_size,\n",
    "                        shuffle=True,\n",
    "                        drop_last=True,\n",
    "                        num_workers=0)\n",
    "    history_loss = []\n",
    "    iter_epoch = []\n",
    "    for epoch in tqdm.tqdm(range(epoch_num)):\n",
    "            for batch_id, data in enumerate(data_reader()):             \n",
    "                x = data[0]\n",
    "                y = data[1]\n",
    "                out = model(x)\n",
    "                avg_loss = mse_loss(out,(y[:,:,:-1]))   #输输入的数据进过卷积会丢掉最后一个数据所以只剩287\n",
    "                avg_loss.backward()\n",
    "                opt.step()\n",
    "                opt.clear_grad()\n",
    "            iter_epoch.append(epoch)\n",
    "            history_loss.append(avg_loss.numpy()[0])\n",
    "    #绘制loss\n",
    "    plt.plot(iter_epoch,history_loss, label = 'loss')\n",
    "    plt.legend()\n",
    "    plt.xlabel('iters')\n",
    "    plt.ylabel('Loss')\n",
    "    plt.show()\n",
    "    #保存模型参数\n",
    "    paddle.save(model.state_dict(),'model')\n",
    "\n",
    "train()"
   ]
  },
  {
   "cell_type": "markdown",
   "metadata": {},
   "source": [
    "### 3.探测异常时序\n",
    "\n",
    "我们将用我们训练好的模型探测异常时序：\n",
    "\n",
    "1. 使用自编码器计算出无异常时序数据集里的所有重建损失\n",
    "\n",
    "2. 找出最大重建损失并且以这个为阀值，模型重建损失超出这个值则输入的数据为异常时序 \n",
    "\n",
    "\n"
   ]
  },
  {
   "cell_type": "code",
   "execution_count": 19,
   "metadata": {},
   "outputs": [
    {
     "data": {
      "image/png": "[encoded data removed]",
      "text/plain": [
       "<Figure size 432x288 with 1 Axes>"
      ]
     },
     "metadata": {
      "needs_background": "light"
     },
     "output_type": "display_data"
    },
    {
     "name": "stdout",
     "output_type": "stream",
     "text": [
      "阀值: 0.040725835\n"
     ]
    }
   ],
   "source": [
    "#计算阀值\n",
    "\n",
    "# param_dict = paddle.load('model.pdparams')   #读取保存的参数\n",
    "param_dict = paddle.load('model')   #读取保存的参数\n",
    "model = AutoEncoder()    \n",
    "model.load_dict(param_dict)    #加载参数\n",
    "model.eval()   #预测\n",
    "total_loss = []\n",
    "datas = []\n",
    "#预测所有正常时序\n",
    "mse_loss = paddle.nn.loss.MSELoss()\n",
    "#这里设置batch_size为1，单独求得每个数据的loss\n",
    "data_reader = paddle.io.DataLoader(train_dataset,\n",
    "                        places=[paddle.CPUPlace()],\n",
    "                        batch_size=1,\n",
    "                        shuffle=False,\n",
    "                        drop_last=False,\n",
    "                        num_workers=0)\n",
    "for batch_id, data in enumerate(data_reader()):\n",
    "    x = data[0]\n",
    "    y = data[1]\n",
    "    out = model(x)\n",
    "    avg_loss = mse_loss(out,(y[:,:,:-1]))\n",
    "    total_loss.append(avg_loss.numpy()[0])\n",
    "    datas.append(batch_id)\n",
    "\n",
    "plt.bar(datas, total_loss)\n",
    "plt.ylabel(\"reconstruction loss\")\n",
    "plt.xlabel(\"data samples\")\n",
    "plt.show()\n",
    "\n",
    "# 获取重建loss的阀值.\n",
    "threshold = np.max(total_loss)\n",
    "print(\"阀值:\", threshold)"
   ]
  },
  {
   "cell_type": "markdown",
   "metadata": {},
   "source": [
    "### 4.AutoEncoder 对异常数据的重构\n",
    "\n",
    "为了好玩，让我们先看看我们的模型是如何重构第一个组数据。这是我们训练数据集第一天起的288步时间。"
   ]
  },
  {
   "cell_type": "code",
   "execution_count": 21,
   "metadata": {},
   "outputs": [
    {
     "data": {
      "image/png": "[encoded data removed]",
      "text/plain": [
       "<Figure size 432x288 with 1 Axes>"
      ]
     },
     "metadata": {
      "needs_background": "light"
     },
     "output_type": "display_data"
    },
    {
     "ename": "SystemExit",
     "evalue": "",
     "output_type": "error",
     "traceback": [
      "An exception has occurred, use %tb to see the full traceback.\n",
      "\u001b[0;31mSystemExit\u001b[0m\n"
     ]
    }
   ],
   "source": [
    "import sys\n",
    "# param_dict= paddle.load('model.pdparams')   #读取保存的参数\n",
    "param_dict= paddle.load('model')   #读取保存的参数\n",
    "model = AutoEncoder()    \n",
    "model.load_dict(param_dict)    #加载参数\n",
    "model.eval()   #预测\n",
    "data_reader = paddle.io.DataLoader(train_dataset,\n",
    "                        places=[paddle.CPUPlace()],\n",
    "                        batch_size=128,\n",
    "                        shuffle=False,\n",
    "                        drop_last=False,\n",
    "                        num_workers=0)\n",
    "for batch_id, data in enumerate(data_reader()):\n",
    "    x = data[0]\n",
    "    out = model(x)\n",
    "    step = np.arange(287)\n",
    "    plt.plot(step,x[0,0,:-1].numpy())\n",
    "    plt.plot(step,out[0,0].numpy())\n",
    "    plt.show()\n",
    "    sys.exit()\n"
   ]
  },
  {
   "cell_type": "markdown",
   "metadata": {},
   "source": [
    "* 可以看出对正常数据的重构效果十分不错\n",
    "* 接下来我们对异常数据进行探测\n"
   ]
  },
  {
   "cell_type": "code",
   "execution_count": 22,
   "metadata": {},
   "outputs": [
    {
     "data": {
      "image/png": "[encoded data removed]",
      "text/plain": [
       "<Figure size 432x288 with 1 Axes>"
      ]
     },
     "metadata": {
      "needs_background": "light"
     },
     "output_type": "display_data"
    }
   ],
   "source": [
    "df_test_value = (df_daily_jumpsup - training_mean) / training_std\n",
    "fig, ax = plt.subplots()\n",
    "df_test_value.plot(legend=False, ax=ax)\n",
    "plt.show()\n",
    "#这是测试集里面的异常数据，可以看到第11~~12天发生了异常"
   ]
  },
  {
   "cell_type": "code",
   "execution_count": 23,
   "metadata": {},
   "outputs": [
    {
     "name": "stdout",
     "output_type": "stream",
     "text": [
      "141\n",
      "[2990, 2991, 2992, 2994, 2995, 2996, 2997, 2998, 2999, 3000, 3001, 3002, 3003, 3004, 3005, 3006, 3007, 3008, 3009, 3010, 3011, 3012, 3013, 3014, 3015, 3016, 3017, 3018, 3019, 3020, 3021, 3022, 3023, 3024, 3025, 3026, 3027, 3028, 3029, 3030, 3031, 3032, 3033, 3034, 3035, 3036, 3037, 3038, 3039, 3040, 3041, 3042, 3043, 3044, 3045, 3046, 3047, 3048, 3049, 3050, 3051, 3052, 3053, 3054, 3055, 3056, 3057, 3058, 3059, 3060, 3061, 3062, 3063, 3064, 3065, 3066, 3067, 3068, 3069, 3070, 3071, 3072, 3073, 3074, 3075, 3076, 3077, 3078, 3079, 3080, 3081, 3082, 3083, 3084, 3085, 3086, 3087, 3088, 3089, 3090, 3091, 3092, 3093, 3094, 3095, 3096, 3097, 3098, 3099, 3100, 3101, 3102, 3103, 3104, 3105, 3106, 3107, 3108, 3109, 3110, 3111, 3112, 3113, 3114, 3115, 3116, 3117, 3118, 3119, 3120, 3121, 3122, 3123, 3124, 3125, 3126, 3127, 3128, 3129, 3130, 3131]\n"
     ]
    }
   ],
   "source": [
    "#探测异常数据\n",
    "threshold = 0.033    #阀值设定，即刚才求得的值\n",
    "# param_dict = paddle.load('model.pdparams')   #读取保存的参数\n",
    "param_dict = paddle.load('model')   #读取保存的参数\n",
    "model = AutoEncoder()    \n",
    "model.load_dict(param_dict)    #加载参数\n",
    "model.eval()   #预测\n",
    "mse_loss = paddle.nn.loss.MSELoss()\n",
    "\n",
    "def create_sequences(values, time_steps=288):\n",
    "    '''\n",
    "    探测数据预处理\n",
    "    '''\n",
    "    output = []\n",
    "    for i in range(len(values) - time_steps):\n",
    "        output.append(values[i : (i + time_steps)])\n",
    "    return np.stack(output)\n",
    "\n",
    "\n",
    "x_test = create_sequences(df_test_value.values)\n",
    "x = paddle.to_tensor(x_test).astype('float32')\n",
    "\n",
    "abnormal_index = [] #记录检测到异常时数据的索引\n",
    "\n",
    "for i in range(len(x_test)):\n",
    "    input_x = paddle.reshape(x[i],(1,1,288))\n",
    "    out = model(input_x)\n",
    "    loss = mse_loss(input_x[:,:,:-1],out)\n",
    "    if loss.numpy()[0]>threshold:\n",
    "        #开始检测到异常时序列末端靠近异常点，所以我们要加上序列长度，得到真实索引位置\n",
    "        abnormal_index.append(i+288)\n",
    "\n",
    "#不再检测异常时序列的前端靠近异常点，所以我们要减去索引长度得到异常点真实索引，为了结果明显，我们给异常位置加宽40单位\n",
    "abnormal_index = abnormal_index[:(-288+40)]\n",
    "print(len(abnormal_index))\n",
    "print(abnormal_index)\n"
   ]
  },
  {
   "cell_type": "code",
   "execution_count": 24,
   "metadata": {},
   "outputs": [
    {
     "data": {
      "image/png": "[encoded data removed]",
      "text/plain": [
       "<Figure size 432x288 with 1 Axes>"
      ]
     },
     "metadata": {
      "needs_background": "light"
     },
     "output_type": "display_data"
    }
   ],
   "source": [
    "#异常检测结果可视化\n",
    "df_subset = df_daily_jumpsup.iloc[abnormal_index]\n",
    "fig, ax = plt.subplots()\n",
    "df_daily_jumpsup.plot(legend=False, ax=ax)\n",
    "df_subset.plot(legend=False, ax=ax, color=\"r\")\n",
    "plt.show()"
   ]
  },
  {
   "cell_type": "code",
   "execution_count": null,
   "metadata": {},
   "outputs": [],
   "source": []
  }
 ],
 "metadata": {
  "kernelspec": {
   "display_name": "Python 3",
   "language": "python",
   "name": "python3"
  },
  "language_info": {
   "codemirror_mode": {
    "name": "ipython",
    "version": 3
   },
   "file_extension": ".py",
   "mimetype": "text/x-python",
   "name": "python",
   "nbconvert_exporter": "python",
   "pygments_lexer": "ipython3",
   "version": "3.8.6"
  }
 },
 "nbformat": 4,
 "nbformat_minor": 4
}
